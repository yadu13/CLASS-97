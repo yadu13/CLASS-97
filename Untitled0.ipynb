{
  "nbformat": 4,
  "nbformat_minor": 0,
  "metadata": {
    "colab": {
      "provenance": [],
      "authorship_tag": "ABX9TyOQzsm/g1KXy4WzCme0FL3O",
      "include_colab_link": true
    },
    "kernelspec": {
      "name": "python3",
      "display_name": "Python 3"
    },
    "language_info": {
      "name": "python"
    }
  },
  "cells": [
    {
      "cell_type": "markdown",
      "metadata": {
        "id": "view-in-github",
        "colab_type": "text"
      },
      "source": [
        "<a href=\"https://colab.research.google.com/github/yadu13/CLASS-97/blob/main/Untitled0.ipynb\" target=\"_parent\"><img src=\"https://colab.research.google.com/assets/colab-badge.svg\" alt=\"Open In Colab\"/></a>"
      ]
    },
    {
      "cell_type": "code",
      "execution_count": 7,
      "metadata": {
        "colab": {
          "base_uri": "https://localhost:8080/"
        },
        "id": "rn2E-p3Nymud",
        "outputId": "9c6904bd-1c61-46cd-fdac-e0b14085ae12"
      },
      "outputs": [
        {
          "output_type": "stream",
          "name": "stdout",
          "text": [
            "Choose 1 for Addition 2 for Subtraction\n",
            "Enter the Option2\n",
            "Enter the First No100\n",
            "Enter the Second No30\n",
            "70\n"
          ]
        }
      ],
      "source": [
        "def calculate(option):\n",
        "  if (option=='1'or option=='2'):\n",
        "    a=int(input('Enter the First No'))\n",
        "    b=int(input('Enter the Second No'))\n",
        "    if option=='1':\n",
        "      sum=a+b\n",
        "      print(sum)\n",
        "    elif option=='2':\n",
        "      dif=a-b\n",
        "      print(dif)\n",
        "  else:\n",
        "    print('Invalid Input')\n",
        "print('Choose 1 for Addition 2 for Subtraction')\n",
        "option=input('Enter the Option')\n",
        "calculate(option)\n",
        "\n",
        ""
      ]
    }
  ]
}